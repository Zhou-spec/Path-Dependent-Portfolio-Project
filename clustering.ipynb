{
 "cells": [
  {
   "cell_type": "code",
   "execution_count": 1,
   "metadata": {},
   "outputs": [],
   "source": [
    "import numpy as np\n",
    "import pandas as pd\n",
    "\n",
    "\"\"\"read data from daily_return_500_2020_2022.csv\"\"\" \n",
    "df = pd.read_csv('daily_return_500_2020_2022.csv', index_col=0)"
   ]
  },
  {
   "cell_type": "code",
   "execution_count": 2,
   "metadata": {},
   "outputs": [],
   "source": [
    "\"\"\"e(x,y) is a function that x, y are pandas series and return the square root of the culmulation difference of the two series\"\"\"\n",
    "stock_names = df.columns.to_numpy()\n",
    "stock_names = stock_names[1:]\n",
    "stock_index = np.arange(0, len(stock_names))\n",
    "numpy_stock_return = df.iloc[:, 1:].to_numpy()\n",
    "numpy_stock_return = numpy_stock_return.T\n",
    "\"\"\"now, the numpy_stock_return is 496 * 754, each row is a stock's return in the past two years\"\"\"\n",
    "\"\"\"define a function e(x,y) where x, y are stock_index\"\"\"\n",
    "def e(x, y):\n",
    "    log_return_x_array = np.log(1 + numpy_stock_return[x])\n",
    "    log_return_y_array = np.log(1 + numpy_stock_return[y])\n",
    "    log_return_x = np.sum(log_return_x_array)\n",
    "    log_return_y = np.sum(log_return_y_array)\n",
    "    return_x = np.exp(log_return_x)\n",
    "    return_y = np.exp(log_return_y)\n",
    "\n",
    "    return np.sqrt((return_x - return_y) ** 2)\n",
    "\n",
    "\"\"\"define a function t(x,y) where x, y are stock names that return the modified correlation between x and y\"\"\"\n",
    "def t(x, y):\n",
    "    numerator = np.dot(numpy_stock_return[x], numpy_stock_return[y])\n",
    "    var_x = np.dot(numpy_stock_return[x], numpy_stock_return[x])\n",
    "    var_y = np.dot(numpy_stock_return[y], numpy_stock_return[y])\n",
    "\n",
    "    return numerator / np.sqrt(var_x * var_y)\n",
    "\n",
    "\n",
    "\"\"\"define a function sim(x,y) to reflect the similarities between x and y. w is a hyperparameter\"\"\"\n",
    "def sim(x, y, w):\n",
    "    a = w / (1 + e(x,y))\n",
    "    b = (1 - w) * t(x,y)\n",
    "    return a + b\n",
    "\n"
   ]
  },
  {
   "cell_type": "code",
   "execution_count": 3,
   "metadata": {},
   "outputs": [],
   "source": [
    "\"\"\"implement a simulated annealing algorithm to find the best clustering\"\"\"\n",
    "\"\"\"first, we need to define a function to calculate the cost of a clustering\"\"\"\n",
    "w = 0.5 #you can change the value of w, which is usually between 0.4 and 0.6\n",
    "k = 0.0001\n",
    "\n",
    "def number_of_clusters(clustering):\n",
    "    cluster_numbers = 0\n",
    "    visited_cluster = []\n",
    "    for element in clustering:\n",
    "        if element not in visited_cluster:\n",
    "            visited_cluster.append(element)\n",
    "            cluster_numbers = cluster_numbers + 1\n",
    "    return cluster_numbers\n",
    "\n",
    "def cost(clustering): \n",
    "    \"\"\"clustering is a list of the same length of stocks, and each element is the cluster that the stock belongs to\"\"\"\n",
    "    cost = 0\n",
    "    cluster_numbers = number_of_clusters(clustering)\n",
    "\n",
    "    for i in range(0, len(clustering)):\n",
    "        for j in range(0, len(clustering)):\n",
    "            if clustering[i] == clustering[j]:\n",
    "                cost = cost + sim(i, j, w)\n",
    "    \n",
    "    new_cost = cluster_numbers - (k / (cluster_numbers - 1)) * cost\n",
    "    return new_cost \n",
    "\n",
    "\n",
    "\"\"\"define a function to generate a random clustering\"\"\"\n",
    "def random_clustering():\n",
    "    n = 25 # n is the number of clusters, you can change the value of n\n",
    "    clustering = np.zeros(len(stock_names))\n",
    "    for i in range(0, len(stock_names)):\n",
    "        clustering[i] = np.random.randint(0, n) \n",
    "    return clustering\n",
    "\n",
    "\"\"\"define a function to generate a neighbor of a clustering\"\"\"\n",
    "def neighbor(clustering):\n",
    "    n = 25 # n is the number of clusters, you can change the value of n, but should be the same as n in the previous function\n",
    "    neighbor = clustering.copy()\n",
    "    index = np.random.randint(0, len(stock_names))\n",
    "    neighbor[index] = np.random.randint(0, n)\n",
    "    return neighbor, index\n",
    "\n",
    "\"\"\"define a function to calculate the probability of accepting a neighbor\"\"\"\n",
    "def probability(cost, neighbor_cost, temperature):\n",
    "    if neighbor_cost < cost:\n",
    "        return 1\n",
    "    else:\n",
    "        return np.exp((cost - neighbor_cost) / temperature)\n",
    "\n",
    "\"\"\"define a function to update the temperature\"\"\"\n",
    "def update_temperature(temperature):\n",
    "    alpha = 0.99 # alpha is a hyperparameter, you can change the value of alpha\n",
    "    return temperature * alpha\n",
    "\n",
    "\"\"\"define a function to run the simulated annealing algorithm\"\"\"\n",
    "def simulated_annealing():\n",
    "    temperature = 100 # temperature is a hyperparameter, you can change the value of temperature\n",
    "    clustering = random_clustering()\n",
    "    cost_clustering = cost(clustering)\n",
    "    T_final = 0.1 # T_final is a hyperparameter, you can change the value of T_final\n",
    "    while temperature > T_final:\n",
    "        neighbor_clustering, index = neighbor(clustering)\n",
    "        change = 0\n",
    "        cluster_numbers = number_of_clusters(clustering)\n",
    "        for i in range(0, len(stock_names)):\n",
    "            if i != index and clustering[i] == clustering[index]:\n",
    "                change = change + sim(i, index, w) * (k / (cluster_numbers - 1))\n",
    "            if i != index and neighbor_clustering[i] == neighbor_clustering[index]:\n",
    "                change = change - sim(i, index, w) * (k / (cluster_numbers - 1))\n",
    "        neighbor_cost_clustering = cost_clustering + change\n",
    "        if probability(cost_clustering, neighbor_cost_clustering, temperature) > np.random.random():\n",
    "            clustering = neighbor_clustering\n",
    "            cost_clustering = neighbor_cost_clustering\n",
    "        temperature = update_temperature(temperature)\n",
    "    return clustering\n"
   ]
  },
  {
   "cell_type": "code",
   "execution_count": 4,
   "metadata": {},
   "outputs": [
    {
     "name": "stdout",
     "output_type": "stream",
     "text": [
      "[24.  2.  4.  2.  5.  1. 20.  8.  9.  6.  9.  0. 16. 16. 10. 14. 13.  7.\n",
      "  0. 21.  6.  4. 16. 20.  8. 22.  0.  3. 12. 14.  9.  0. 10.  2.  3.  7.\n",
      "  2. 10. 18. 13. 19.  2.  3.  2.  9. 23.  9. 11.  1. 23.  4. 21. 10.  9.\n",
      " 10.  5. 23.  8.  9. 17. 24. 22. 23.  1. 19.  3. 22.  9. 10. 24.  1.  2.\n",
      " 22.  8. 15. 13. 22. 14. 11. 12.  0.  3.  6.  8.  5. 10.  7.  4.  2.  9.\n",
      " 15.  6.  9. 19.  6.  4. 10. 13.  1. 15. 11. 12.  9. 17. 19. 19. 11. 10.\n",
      " 15.  8.  3.  6. 20.  3. 18. 22.  7. 12. 17. 24. 14.  0. 18. 17. 20. 12.\n",
      " 21. 20.  8.  3.  7. 11. 24. 14. 18.  9.  0. 21. 18.  5. 16. 23.  9. 14.\n",
      "  6.  0.  3.  8. 22. 13. 13.  5. 15. 11. 12. 13.  3. 17. 21.  0.  5.  2.\n",
      "  7. 19. 23.  1.  5. 12. 12. 21.  3.  3. 12. 21. 23. 13.  1.  7. 13.  8.\n",
      "  8.  0. 16. 20.  8.  1. 12.  0. 15. 19. 14. 16. 11. 10.  5.  7.  3. 21.\n",
      " 24. 14. 10.  6. 19. 11.  2. 21. 15. 22. 14. 13. 13. 22. 22. 17. 16.  7.\n",
      "  5. 24. 12.  4. 14. 13. 16.  4. 12.  1. 15.  6.  6.  5. 14. 17.  5. 15.\n",
      " 19. 15.  5.  9. 16. 17.  0. 18. 24. 17.  6.  2. 22.  4. 15. 17. 22.  2.\n",
      "  3.  6.  8. 24. 10.  0. 23. 18. 21.  2. 16. 23.  7. 15.  7.  1. 13. 23.\n",
      "  0.  2. 20. 16.  6. 21. 13. 11.  3. 18. 21.  0. 19.  3.  6. 24.  1.  5.\n",
      "  9. 23. 11. 12. 13.  1.  2. 16.  6. 14. 17. 19.  2. 18.  7.  7.  5. 20.\n",
      " 23. 24. 22. 16. 17. 13.  3. 21. 17. 11.  5.  1.  8. 14.  8. 13.  9.  1.\n",
      " 10. 14. 12.  7. 20.  7.  4. 12. 19. 17.  4. 15. 16. 13. 17.  1.  0. 20.\n",
      "  8.  3. 16. 18. 19. 21. 11.  8.  5.  3.  4.  2.  1.  4. 13. 24. 18. 22.\n",
      "  7. 21. 14. 24.  4. 14.  4. 13. 10. 13. 24. 11. 13.  0. 16.  1. 20. 14.\n",
      "  3. 11. 10. 10. 18. 13.  6.  1.  1.  6.  9.  6.  2. 12.  4. 17. 10.  1.\n",
      " 14.  4.  7. 14.  8.  3. 15. 20. 13.  1.  0. 14. 23.  9.  4. 15. 23. 10.\n",
      " 12. 23. 19. 16. 23. 24. 17. 24. 15. 12. 17. 10. 22.  3. 23. 19.  6.  9.\n",
      " 11. 12. 11.  8. 23. 15.  1. 16.  3. 17.  6.  2. 19. 19. 12. 19. 17.  3.\n",
      " 21. 10. 17.  4. 20.  0. 17.  6. 22.  4. 15.  1. 12. 24. 19. 22. 20.  9.\n",
      "  4.  8. 18. 22.  3. 23.  0. 24. 12. 24. 23.  2.  6. 23. 21.  5.  9. 20.\n",
      "  1. 16.  6.  2. 24.  1. 18. 21. 13. 19.]\n",
      "25\n"
     ]
    }
   ],
   "source": [
    "\"\"\"run the simulated annealing algorithm 100 times and find the best clustering\"\"\"\n",
    "best_clustering = random_clustering()\n",
    "best_cost = cost(best_clustering)\n",
    "for i in range(0, 100):\n",
    "    clustering = simulated_annealing()\n",
    "    if cost(clustering) > best_cost:\n",
    "        best_clustering = clustering\n",
    "        best_cost = cost(clustering)\n",
    "\n",
    "\"\"\"print the best clustering\"\"\"\n",
    "print(best_clustering)\n",
    "\n",
    "\"\"\"print the number of clusters\"\"\"\n",
    "print(number_of_clusters(best_clustering))"
   ]
  },
  {
   "cell_type": "code",
   "execution_count": 5,
   "metadata": {},
   "outputs": [
    {
     "name": "stdout",
     "output_type": "stream",
     "text": [
      "24.0 ['A', 'BIIB', 'BSX', 'CVS', 'DISH', 'GLW', 'HOLX', 'ISRG', 'KEY', 'MAA', 'MPC', 'PFE', 'PKG', 'POOL', 'SWKS', 'SYK', 'VRSK', 'WELL', 'WHR', 'XYL']\n",
      "2.0 ['AAL', 'AAPL', 'AMT', 'ANSS', 'APH', 'ARE', 'BXP', 'CHRW', 'ES', 'GPN', 'IVZ', 'JNPR', 'KMI', 'LKQ', 'MET', 'MLM', 'PCG', 'RMD', 'TSN', 'WMB', 'XRAY']\n",
      "4.0 ['AAP', 'AKAM', 'AXP', 'CHD', 'CMCSA', 'HPE', 'HST', 'JBHT', 'NRG', 'NUE', 'PCAR', 'PEG', 'PKI', 'PM', 'ROL', 'SBAC', 'SPG', 'UNH', 'VFC', 'VZ']\n",
      "5.0 ['ABBV', 'BAX', 'CE', 'DTE', 'EL', 'EQT', 'EVRG', 'GEN', 'HLT', 'IDXX', 'ILMN', 'INVH', 'MAS', 'MO', 'MTB', 'PAYC', 'WST']\n",
      "1.0 ['ABC', 'AVY', 'BKNG', 'BWA', 'CMI', 'ETSY', 'FDS', 'FOX', 'HUM', 'LEN', 'MAR', 'MDT', 'MTCH', 'NEE', 'NWSA', 'PEAK', 'PSX', 'REGN', 'RF', 'RSG', 'SJM', 'TRMB', 'VLO', 'WYNN', 'YUM']\n",
      "20.0 ['ABT', 'ALGN', 'CSGP', 'DD', 'DG', 'FLT', 'LLY', 'MOH', 'NOC', 'O', 'PTC', 'SHW', 'UNP', 'VTR', 'WY']\n",
      "8.0 ['ACGL', 'ALK', 'BBY', 'CAG', 'CDW', 'CRL', 'DGX', 'ECL', 'FFIV', 'FIS', 'FMC', 'KDP', 'MTD', 'NCLH', 'ODFL', 'PARA', 'SCHW', 'TMUS', 'WAB']\n",
      "9.0 ['ACN', 'ADI', 'AME', 'ATO', 'AVB', 'BAC', 'BDX', 'BR', 'CHTR', 'CL', 'COF', 'DOV', 'DVN', 'IP', 'MCD', 'NDSN', 'RJF', 'SO', 'TFX', 'VTRS', 'WTW']\n",
      "6.0 ['ADBE', 'AJG', 'CDNS', 'CINF', 'CMA', 'CSCO', 'DXCM', 'GOOG', 'IBM', 'ICE', 'ITW', 'K', 'LNC', 'MA', 'MGM', 'REG', 'RHI', 'RL', 'TFC', 'TSLA', 'USB', 'WMT', 'XOM']\n",
      "0.0 ['ADM', 'AIG', 'ALLE', 'AMGN', 'CCL', 'CZR', 'DOW', 'EA', 'EQR', 'FISV', 'FRC', 'IR', 'KHC', 'LIN', 'LW', 'NXPI', 'PRU', 'SLB', 'UPS', 'WEC']\n",
      "16.0 ['ADP', 'ADSK', 'ALB', 'DUK', 'FITB', 'FTV', 'HIG', 'HSIC', 'IPG', 'KMX', 'LMT', 'META', 'MRK', 'NVR', 'OMC', 'PSA', 'STZ', 'TROW', 'XEL']\n",
      "10.0 ['AEE', 'AMP', 'AON', 'BA', 'BALL', 'BRO', 'CF', 'CME', 'CPRT', 'GE', 'GNRC', 'KEYS', 'NEM', 'PNR', 'QCOM', 'QRVO', 'ROST', 'STE', 'TDG', 'UHS']\n",
      "14.0 ['AEP', 'AMD', 'CBOE', 'CVX', 'DLR', 'DXC', 'FTNT', 'GM', 'HAL', 'HPQ', 'IEX', 'MHK', 'MU', 'NFLX', 'PHM', 'PLD', 'PWR', 'RTX', 'SBUX', 'SNA']\n",
      "13.0 ['AES', 'APA', 'CAT', 'CMG', 'EFX', 'EIX', 'ENPH', 'FCX', 'FE', 'HAS', 'HBAN', 'HRL', 'LH', 'LOW', 'MDLZ', 'MRO', 'NDAQ', 'NWL', 'PEP', 'PNC', 'PNW', 'PPL', 'RE', 'SIVB', 'ZION']\n",
      "7.0 ['AFL', 'ANET', 'CFG', 'CTRA', 'DHR', 'ESS', 'FDX', 'GILD', 'HII', 'KR', 'LDOS', 'MMM', 'MNST', 'NKE', 'NOW', 'PGR', 'SBNY']\n",
      "21.0 ['AIZ', 'AZO', 'DFS', 'DPZ', 'EQIX', 'EXPD', 'FANG', 'GL', 'GRMN', 'KMB', 'LNT', 'LVS', 'MSCI', 'ORLY', 'PH', 'UDR', 'WRK', 'ZBRA']\n",
      "22.0 ['ALL', 'BIO', 'BMY', 'C', 'CB', 'CTLT', 'ED', 'GWW', 'HCA', 'HD', 'J', 'JNJ', 'MPWR', 'PG', 'TDY', 'V', 'VRTX', 'WBA']\n",
      "3.0 ['AMAT', 'AMZN', 'APTV', 'BLK', 'CDAY', 'CRM', 'CSX', 'DHI', 'EBAY', 'EOG', 'EXPE', 'EXR', 'GIS', 'JPM', 'LUMN', 'LYV', 'MS', 'OKE', 'PAYX', 'PXD', 'SEDG', 'TECH', 'TRV', 'UAL', 'WBD']\n",
      "12.0 ['AMCR', 'CCI', 'CNP', 'CTSH', 'DE', 'EMR', 'EW', 'EXC', 'F', 'FOXA', 'HON', 'HSY', 'MCO', 'NI', 'NSC', 'ROK', 'STLD', 'T', 'TJX', 'TXN', 'VMC', 'WFC']\n",
      "18.0 ['AOS', 'CTAS', 'D', 'DLTR', 'DRI', 'IRM', 'KLAC', 'LUV', 'MMC', 'ON', 'PFG', 'RCL', 'WAT', 'ZBH']\n",
      "19.0 ['APD', 'BKR', 'CLX', 'COP', 'COST', 'ETN', 'FSLR', 'GOOGL', 'INTC', 'LYB', 'MKTX', 'NTAP', 'ORCL', 'STX', 'TER', 'TT', 'TTWO', 'TXT', 'VRSN', 'ZTS']\n",
      "23.0 ['ATVI', 'AWK', 'BBWI', 'BK', 'DVA', 'ETR', 'FAST', 'KIM', 'KO', 'LHX', 'MCHP', 'MOS', 'SNPS', 'SRE', 'STT', 'SWK', 'TEL', 'TPR', 'WDC', 'WM', 'WRB']\n",
      "11.0 ['AVGO', 'CBRE', 'CNC', 'CPB', 'DIS', 'EMN', 'GD', 'GPC', 'LRCX', 'MCK', 'MSI', 'OXY', 'PPG', 'PYPL', 'TGT', 'TMO']\n",
      "17.0 ['BEN', 'COO', 'CTVA', 'DAL', 'EPAM', 'HES', 'IFF', 'IQV', 'IT', 'JKHY', 'MKC', 'MRNA', 'MSFT', 'NTRS', 'NWS', 'ROP', 'SYF', 'TAP', 'TSCO', 'TYL', 'ULTA', 'URI']\n",
      "15.0 ['CAH', 'CI', 'CMS', 'CPT', 'ELV', 'FRT', 'GS', 'HWM', 'INCY', 'INTU', 'JCI', 'L', 'NVDA', 'SEE', 'SPGI', 'SYY', 'TRGP', 'VICI']\n"
     ]
    }
   ],
   "source": [
    "\n",
    "from collections import defaultdict\n",
    "table = defaultdict(list)\n",
    "for i in range(0, len(best_clustering)):\n",
    "    cluster = best_clustering[i]\n",
    "    table[cluster].append(stock_names[i])\n",
    "\n",
    "for key, value in table.items():\n",
    "    print(key, value)\n"
   ]
  },
  {
   "cell_type": "code",
   "execution_count": 8,
   "metadata": {},
   "outputs": [
    {
     "name": "stdout",
     "output_type": "stream",
     "text": [
      "['A', 'JNPR', 'JBHT', 'PAYC', 'ABC', 'CSGP', 'CAG', 'IP', 'XOM', 'FISV', 'STZ', 'CF', 'AMD', 'LOW', 'DHR', 'AIZ', 'HD', 'EOG', 'F', 'CTAS', 'VRSN', 'DVA', 'TGT', 'URI', 'VICI']\n"
     ]
    }
   ],
   "source": [
    "\"\"\"randomly picking a number from list\"\"\"\n",
    "import random\n",
    "def random_pick(some_list, probabilities):\n",
    "    x = random.uniform(0, 1)\n",
    "    cumulative_probability = 0.0\n",
    "    for item, item_probability in zip(some_list, probabilities):\n",
    "        cumulative_probability += item_probability\n",
    "        if x < cumulative_probability: break\n",
    "    return item\n",
    "\n",
    "ticker = []\n",
    "for key in table.keys():\n",
    "    tick = random_pick(table[key], [1/len(table[key])]*len(table[key]))\n",
    "    ticker.append(tick)\n",
    "\n",
    "print(ticker)\n",
    "\n"
   ]
  },
  {
   "cell_type": "code",
   "execution_count": 9,
   "metadata": {},
   "outputs": [
    {
     "name": "stdout",
     "output_type": "stream",
     "text": [
      "[*********************100%***********************]  25 of 25 completed\n"
     ]
    }
   ],
   "source": [
    "\"\"\"use yfinance to get 1 minute data for stock tickers for the past 30 days\"\"\"\n",
    "import yfinance as yf\n",
    "import pandas as pd\n",
    "import numpy as np\n",
    "import matplotlib.pyplot as plt\n",
    "\n",
    "import datetime\n",
    "tickers = ticker\n",
    "start = datetime.datetime(2020, 1, 1)\n",
    "end = datetime.datetime(2022, 12, 30)\n",
    "data = yf.download(tickers, start, end)"
   ]
  },
  {
   "cell_type": "code",
   "execution_count": 10,
   "metadata": {},
   "outputs": [],
   "source": [
    "\"\"\"let the first row be the column names\"\"\"\n",
    "data = data.stack(level=0).rename_axis(['Date', 'Ticker']).reset_index(level=1)\n"
   ]
  },
  {
   "cell_type": "code",
   "execution_count": 11,
   "metadata": {},
   "outputs": [],
   "source": [
    "\"\"\"only keep rows with column names in the ticker list is close\"\"\"\n",
    "data = data[data['Ticker'] == 'Close']\n",
    "\"\"\"store the data in csv file\"\"\"\n",
    "data.to_csv('2_min_interval.csv')\n",
    "\n",
    "\n"
   ]
  }
 ],
 "metadata": {
  "kernelspec": {
   "display_name": "pvlib",
   "language": "python",
   "name": "python3"
  },
  "language_info": {
   "codemirror_mode": {
    "name": "ipython",
    "version": 3
   },
   "file_extension": ".py",
   "mimetype": "text/x-python",
   "name": "python",
   "nbconvert_exporter": "python",
   "pygments_lexer": "ipython3",
   "version": "3.10.6"
  },
  "orig_nbformat": 4,
  "vscode": {
   "interpreter": {
    "hash": "c75068bb80473314d9f1725f295377aac8aa161527292b6a02de186485fa0d79"
   }
  }
 },
 "nbformat": 4,
 "nbformat_minor": 2
}
