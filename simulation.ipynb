{
 "cells": [
  {
   "cell_type": "markdown",
   "metadata": {},
   "source": [
    "This notebook is for generating the simulated dynamics "
   ]
  },
  {
   "cell_type": "code",
   "execution_count": 34,
   "metadata": {},
   "outputs": [
    {
     "data": {
      "text/plain": [
       "array([[ 1.00000000e+00,  0.00000000e+00,  0.00000000e+00,\n",
       "         0.00000000e+00,  0.00000000e+00,  0.00000000e+00],\n",
       "       [-9.52822378e-01,  3.03528443e-01,  0.00000000e+00,\n",
       "         0.00000000e+00,  0.00000000e+00,  0.00000000e+00],\n",
       "       [-2.33584005e-01,  2.55371744e-01,  9.38202422e-01,\n",
       "         0.00000000e+00,  0.00000000e+00,  0.00000000e+00],\n",
       "       [ 8.84120837e-01, -4.14140428e-01,  1.65167084e-01,\n",
       "         1.39777989e-01,  0.00000000e+00,  0.00000000e+00],\n",
       "       [-3.62122749e-01, -3.45976479e-01, -2.54945474e-01,\n",
       "        -8.12125738e-01,  1.56913932e-01,  0.00000000e+00],\n",
       "       [ 3.29213061e-02,  2.13897595e-02, -6.76623685e-01,\n",
       "        -2.93913800e-01,  6.73983481e-01,  4.68970822e-07]])"
      ]
     },
     "execution_count": 34,
     "metadata": {},
     "output_type": "execute_result"
    }
   ],
   "source": [
    "import numpy as np\n",
    "import pandas as pd\n",
    "\n",
    "# Generate random data\n",
    "data = np.random.rand(6, 6)\n",
    "df = pd.DataFrame(data)\n",
    "corr = df.corr().values\n",
    "sigma = np.linalg.cholesky(corr)\n",
    "sigma\n"
   ]
  },
  {
   "cell_type": "code",
   "execution_count": 42,
   "metadata": {},
   "outputs": [],
   "source": [
    "def one_step_stock_simulation(mu, sigma, S, dt):\n",
    "    # S is n-dimensional array\n",
    "    # mu is n-dimensional array\n",
    "    # sigma is an n x n matrix\n",
    "    # dt is a small time step\n",
    "\n",
    "    n = len(S)\n",
    "    dW = np.random.normal(0, np.sqrt(dt), n)\n",
    "    S = S + (mu * S * dt) + np.dot(sigma, S) * dW\n",
    "    return S\n",
    "\n",
    "def stock_simulation(S0, mu, sigma, T, dt, N):\n",
    "    # N means the number of trajectories we want to simulate\n",
    "    # for each trajectory, it has n = len*(S0) stocks to simulate\n",
    "    # the step is T / dt\n",
    "    n = len(S0)\n",
    "    t = np.linspace(0, T, int(T/dt)+1)\n",
    "    trajectories = np.zeros((N, n, len(t)))\n",
    "    for i in range(N):\n",
    "        trajectories[i, :, 0] = S0\n",
    "        for j in range(1, len(t)):\n",
    "            trajectories[i, :, j] = one_step(mu, sigma, trajectories[i, :, j-1], dt)\n",
    "\n",
    "    return trajectories, t\n",
    "\n",
    "S0 = np.array([100, 100, 100, 100, 100, 100])\n",
    "mu = np.array([0.05, 0.05, 0.05, 0.05, 0.05, 0.05])\n",
    "T = 1\n",
    "dt = 1/252\n",
    "N = 1000\n",
    "S, t = stock_simulation(S0, mu, sigma, T, dt, N)\n"
   ]
  }
 ],
 "metadata": {
  "kernelspec": {
   "display_name": "qids-2023-comp",
   "language": "python",
   "name": "python3"
  },
  "language_info": {
   "codemirror_mode": {
    "name": "ipython",
    "version": 3
   },
   "file_extension": ".py",
   "mimetype": "text/x-python",
   "name": "python",
   "nbconvert_exporter": "python",
   "pygments_lexer": "ipython3",
   "version": "3.9.16"
  }
 },
 "nbformat": 4,
 "nbformat_minor": 2
}
