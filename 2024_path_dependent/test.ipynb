{
 "cells": [
  {
   "cell_type": "code",
   "execution_count": 1,
   "metadata": {},
   "outputs": [],
   "source": [
    "# generate one path for n assets\n",
    "import numpy as np\n",
    "import pandas as pd\n",
    "import torch\n",
    "import matplotlib.pyplot as plt \n",
    "\n",
    "from simulation import *"
   ]
  },
  {
   "cell_type": "code",
   "execution_count": 2,
   "metadata": {},
   "outputs": [],
   "source": [
    "import torch\n",
    "import torch.nn as nn\n",
    "\n",
    "class SimpleLSTMModel(nn.Module):\n",
    "    def __init__(self, hidden_size, output_size=1):  # Output size is set to 1 by default\n",
    "        super(SimpleLSTMModel, self).__init__()\n",
    "        self.hidden_size = hidden_size\n",
    "        # LSTM layer expects input of shape (batch_size, seq_length, features)\n",
    "        # For a univariate sequence, features=1\n",
    "        self.lstm = nn.LSTM(1, hidden_size, batch_first=True)\n",
    "        # Fully connected layer to map the hidden state output to the desired output size\n",
    "        self.fc = nn.Linear(hidden_size, output_size)\n",
    "\n",
    "    def forward(self, x):\n",
    "        # Add a batch dimension and feature dimension to x\n",
    "        # Reshaping x from (n,) to (1, n, 1) to fit LSTM input requirements\n",
    "        x = x.unsqueeze(0).unsqueeze(-1)  # Now x is of shape [1, seq_length, 1]\n",
    "        # Process x through the LSTM\n",
    "        lstm_out, _ = self.lstm(x)\n",
    "        # Only use the output from the last time step\n",
    "        # This assumes you're interested in the final output for sequence processing\n",
    "        out = self.fc(lstm_out[:, -1, :])\n",
    "        # Squeeze the output to remove 1-dimensions, aiming for a scalar output\n",
    "        return out.squeeze()\n",
    "\n",
    "# Initialize the model\n",
    "hidden_size = 10  # Number of LSTM units in the hidden layer\n",
    "\n",
    "model = SimpleLSTMModel(hidden_size)\n",
    "x = torch.randn(50)\n",
    "f = Functional(model)"
   ]
  },
  {
   "cell_type": "code",
   "execution_count": 3,
   "metadata": {},
   "outputs": [
    {
     "name": "stdout",
     "output_type": "stream",
     "text": [
      "1.1261553\n",
      "-0.017042458\n",
      "-0.013079909\n"
     ]
    }
   ],
   "source": [
    "print(f.partial_t(x, 0.01))\n",
    "print(f.partial_x(x, 0.02))\n",
    "print(f.partial_xx(x, 0.03))\n"
   ]
  },
  {
   "cell_type": "code",
   "execution_count": 12,
   "metadata": {},
   "outputs": [],
   "source": [
    "path = generate_asset_path(mu = np.array([0.1, 0.2]), sigma = np.array([[0.3, 0.4], [0.1, 0.2]]), T = 1, dt = 0.01)   "
   ]
  },
  {
   "cell_type": "code",
   "execution_count": 5,
   "metadata": {},
   "outputs": [],
   "source": [
    "# define a class of trading policy \n",
    "# the trading policy object\n",
    "\n",
    "naive_states = np.array([[0.1, 0.2], [0.2, 0.3], [0.3, 0.4], [0.4, 0.5], [0.5, 0.6]])\n",
    "\n",
    "policy = Trading_Policy(f, naive_states)"
   ]
  },
  {
   "cell_type": "code",
   "execution_count": 19,
   "metadata": {},
   "outputs": [],
   "source": [
    "# define a simulated trading environment\n",
    "\n",
    "def simulated_trading(policy, path, intial_wealth, mu, sigma, dt, h, gamma):\n",
    "    # policy is a trading policy object\n",
    "    # path is a simulated asset path of dimension (T/dt, n) \n",
    "    # n is the number of assets\n",
    "\n",
    "    # initialize the wealth to be 1\n",
    "    # meaning the initial cash is 1\n",
    "    \n",
    "    # this function is to simulate the trading process\n",
    "    # return the holding history and wealth history\n",
    "\n",
    "    wealth_history = np.zeros(len(path[0]))\n",
    "    holding_history = np.zeros((path.shape[1], len(path)))\n",
    "\n",
    "    wealth_history[0] = intial_wealth\n",
    "\n",
    "    for i in range(1, len(path[0])):\n",
    "        x = wealth_history[:i]\n",
    "        holding = policy.action(x, mu, sigma, dt, h, gamma)\n",
    "        holding_history[i] = holding\n",
    "        \n",
    "        # to compute the wealth history \n",
    "        increment = path[:, i] - path[:, i - 1]\n",
    "        wealth_change = np.matmul(holding, increment)\n",
    "        wealth_history[i] = wealth_history[i - 1] + wealth_change\n",
    "\n",
    "    return holding_history, wealth_history\n",
    "\n",
    "holding_history, wealth_history = simulated_trading(policy, path, 1, np.array([0.1, 0.2]), np.array([[0.3, 0.4], [0.1, 0.2]]), 0.01, 0.1, 0.1) "
   ]
  },
  {
   "cell_type": "code",
   "execution_count": 20,
   "metadata": {},
   "outputs": [
    {
     "name": "stdout",
     "output_type": "stream",
     "text": [
      "[1.         0.99647592 0.97917434 0.97384783 0.96471388 0.97568628\n",
      " 0.95097165 0.94003351 0.91467608 1.02003045 1.01733701 0.99466499\n",
      " 1.00846065 1.05228066 1.03246266 1.02353423 1.01972838 1.01554581\n",
      " 1.03485273 1.04547821 1.02405383 1.05447598 1.06618436 1.05261621\n",
      " 1.06694296 1.07283541 1.08189327 1.05276453 1.04963819 1.04150053\n",
      " 1.00782432 0.975683   0.95128595 0.94683593 0.9490965  0.95680421\n",
      " 1.00356611 1.01081844 1.00739005 0.99927566 1.02852959 1.03529889\n",
      " 1.03856027 1.02775846 1.00686643 0.99283443 0.99461546 1.01981952\n",
      " 1.13429215 1.15138148 1.13617063 1.14341146 1.14004515 1.14316097\n",
      " 1.18745397 1.18681199 1.19067034 1.22711603 1.24712628 1.25463591\n",
      " 1.25905043 1.31964695 1.26151781 1.26694969 1.27372084 1.26188876\n",
      " 1.27568453 1.26915243 1.26984002 1.30875298 1.30355549 1.30822778\n",
      " 1.29886448 1.29842851 1.2780009  1.26597444 1.2347788  1.27477491\n",
      " 1.27473989 1.25964085 1.28279611 1.2778761  1.26951751 1.2768669\n",
      " 1.27931466 1.30474442 1.30948643 1.3117244  1.31658315 1.31631971\n",
      " 1.34434844 1.36315921 1.39534844 1.38517954 1.39617173 1.48186732\n",
      " 1.43702618 1.41814837 1.40676235 1.41367256]\n"
     ]
    }
   ],
   "source": [
    "\n",
    "print(wealth_history)"
   ]
  }
 ],
 "metadata": {
  "kernelspec": {
   "display_name": "qids-2023-comp",
   "language": "python",
   "name": "python3"
  },
  "language_info": {
   "codemirror_mode": {
    "name": "ipython",
    "version": 3
   },
   "file_extension": ".py",
   "mimetype": "text/x-python",
   "name": "python",
   "nbconvert_exporter": "python",
   "pygments_lexer": "ipython3",
   "version": "3.9.16"
  }
 },
 "nbformat": 4,
 "nbformat_minor": 2
}
